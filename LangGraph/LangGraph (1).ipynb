{
  "nbformat": 4,
  "nbformat_minor": 0,
  "metadata": {
    "colab": {
      "provenance": []
    },
    "kernelspec": {
      "name": "python3",
      "display_name": "Python 3"
    },
    "language_info": {
      "name": "python"
    }
  },
  "cells": [
    {
      "cell_type": "markdown",
      "source": [
        "# We will see about langGraph\n",
        "- What langGraph is?\n",
        "- Why we use langGraph framework?\n",
        "- How we use langGraph?"
      ],
      "metadata": {
        "id": "ShY71XrUZZVo"
      }
    },
    {
      "cell_type": "markdown",
      "source": [
        "## What LangGraph is?\n",
        "LangGraph is a library for building stateful, multi-actor applications with LLMs, used to create agent and multi-agent workflows.\n",
        "\n",
        "### Key Features:\n",
        "\n",
        "- **Cycles and Branching:** Implement loops and conditionals in your apps.\n",
        "  - **Loops:** Imagine a chatbot that needs to ask the user a series of questions to gather information. LangGraph can create a loop that repeatedly asks questions until the user provides all the necessary data.\n",
        "  - **Conditionals:** If you're building a decision-making application, LangGraph can implement conditional statements to choose different paths based on specific criteria. For example, a customer support bot might offer different options based on the user's issue.\n",
        "\n",
        "- **Persistence:** Automatically save state after each step in the graph. Pause and resume the graph execution at any point to support error recovery, human-in-the-loop workflows, time travel and more.\n",
        "  - **State Saving:** LangGraph can automatically save the current state of your application after each step, ensuring that you can resume the workflow from where you left off if there's an interruption.\n",
        "  - **Pause and Resume:** If an error occurs or you need to review the workflow, you can pause the execution and resume it later. This feature is especially useful for human-in-the-loop workflows where a human needs to intervene.\n",
        "\n",
        "- **Human-in-the-Loop:** Interrupt graph execution to approve or edit next action planned by the agent.\n",
        "  - **Manual Intervention:** LangGraph allows you to pause the execution of the workflow and manually review or edit the next planned action. This is helpful for tasks that require human judgment or oversight.\n",
        "\n",
        "- **Streaming Support:** Stream outputs as they are produced by each node (including token streaming).\n",
        "  - **Real-time Outputs:** LangGraph can stream outputs as they are produced by each node, enabling real-time updates and progress tracking. This is particularly useful for applications that generate text or other data in a continuous stream.\n",
        "\n",
        "Integration with LangChain: LangGraph integrates seamlessly with LangChain and LangSmith (but does not require them)."
      ],
      "metadata": {
        "id": "UJOhht5pZdvA"
      }
    },
    {
      "cell_type": "markdown",
      "source": [
        "## Example:\n",
        "**A Simple Chatbot**\n",
        "\n",
        "Imagine a chatbot that helps users find restaurants. It might follow this workflow:\n",
        "\n",
        "1. Greet the user: Welcome message.\n",
        "2. Ask for cuisine: Prompt the user to choose a cuisine.\n",
        "3. Ask for location: Prompt the user to specify a location.\n",
        "4. Search for restaurants: Use a tool to search for restaurants based on the user's preferences.\n",
        "5. Display results: Show the search results to the user.\n",
        "\n",
        "LangGraph could be used to create this workflow, with nodes representing each step and edges representing the transitions between them. Conditional edges could be used to handle different user responses, while persistence could be used to save the user's preferences for future interactions.`"
      ],
      "metadata": {
        "id": "o3oEkNk3ZjHV"
      }
    },
    {
      "cell_type": "markdown",
      "source": [
        "# Workflow Of Chatbot:\n",
        "![Chatbot Node Example](https://github.com/Wania-Kazmi/LangGraph_Lectures/blob/main/Assets/langgraph_example_1.png?raw=1)\n"
      ],
      "metadata": {
        "id": "If0WmCoUZouB"
      }
    },
    {
      "cell_type": "markdown",
      "source": [
        "# What is State, Node, Edges in LangGraph?\n",
        "- **State:** States define the different stages or points in the application's lifecycle. They can hold data, variables, or other information that influences the application's behavior.\n",
        "  - **State in Above Example:**\n",
        "    - **Start:** This is the initial state of the workflow, where the application begins execution.\n",
        "    - **End:** This is the final state of the workflow, indicating its completion.\n",
        "\n",
        "- **Node:** Nodes provide a clear structure and visualization of the workflow. They help in understanding the different steps or stages an application can go through.\n",
        "  - **Node in Above Example:**\n",
        "    - Chatbot: The central node representing the chatbot's interaction with the user.\n",
        "\n",
        "- **Edges:** Edges define the flow of execution in the application. They determine how the application moves from one state to another based on specific criteria or events. They can be unconditional (always leading to the next node) or conditional (leading to different nodes based on certain conditions).\n",
        "  - **Edges in Above Example:**\n",
        "    - **Start -> Chatbot:** The edge connecting the initial state to the chatbot node, indicating the workflow's progression.\n",
        "    - **Chatbot -> End:** The edge connecting the chatbot node to the final state, representing the completion of the interaction."
      ],
      "metadata": {
        "id": "S1SdxyChcg9D"
      }
    },
    {
      "cell_type": "code",
      "source": [
        "# langgraph is a Python library used for building and managing conversational AI models. It helps in designing and orchestrating multi-step workflows or flows for chatbots\n",
        "!pip install -q -U langgraph\n"
      ],
      "metadata": {
        "id": "UEO20GVMcvV9",
        "colab": {
          "base_uri": "https://localhost:8080/"
        },
        "outputId": "6de2ce12-f3b8-4ddb-9368-6833c292045f"
      },
      "execution_count": 2,
      "outputs": [
        {
          "output_type": "stream",
          "name": "stdout",
          "text": [
            "\u001b[2K     \u001b[90m━━━━━━━━━━━━━━━━━━━━━━━━━━━━━━━━━━━━━━━━\u001b[0m \u001b[32m50.4/50.4 kB\u001b[0m \u001b[31m3.6 MB/s\u001b[0m eta \u001b[36m0:00:00\u001b[0m\n",
            "\u001b[2K   \u001b[90m━━━━━━━━━━━━━━━━━━━━━━━━━━━━━━━━━━━━━━━━\u001b[0m \u001b[32m108.7/108.7 kB\u001b[0m \u001b[31m5.9 MB/s\u001b[0m eta \u001b[36m0:00:00\u001b[0m\n",
            "\u001b[2K   \u001b[90m━━━━━━━━━━━━━━━━━━━━━━━━━━━━━━━━━━━━━━━━\u001b[0m \u001b[32m404.4/404.4 kB\u001b[0m \u001b[31m25.6 MB/s\u001b[0m eta \u001b[36m0:00:00\u001b[0m\n",
            "\u001b[2K   \u001b[90m━━━━━━━━━━━━━━━━━━━━━━━━━━━━━━━━━━━━━━━━\u001b[0m \u001b[32m295.8/295.8 kB\u001b[0m \u001b[31m24.3 MB/s\u001b[0m eta \u001b[36m0:00:00\u001b[0m\n",
            "\u001b[2K   \u001b[90m━━━━━━━━━━━━━━━━━━━━━━━━━━━━━━━━━━━━━━━━\u001b[0m \u001b[32m378.0/378.0 kB\u001b[0m \u001b[31m31.6 MB/s\u001b[0m eta \u001b[36m0:00:00\u001b[0m\n",
            "\u001b[2K   \u001b[90m━━━━━━━━━━━━━━━━━━━━━━━━━━━━━━━━━━━━━━━━\u001b[0m \u001b[32m76.4/76.4 kB\u001b[0m \u001b[31m6.9 MB/s\u001b[0m eta \u001b[36m0:00:00\u001b[0m\n",
            "\u001b[2K   \u001b[90m━━━━━━━━━━━━━━━━━━━━━━━━━━━━━━━━━━━━━━━━\u001b[0m \u001b[32m78.0/78.0 kB\u001b[0m \u001b[31m7.1 MB/s\u001b[0m eta \u001b[36m0:00:00\u001b[0m\n",
            "\u001b[2K   \u001b[90m━━━━━━━━━━━━━━━━━━━━━━━━━━━━━━━━━━━━━━━━\u001b[0m \u001b[32m141.9/141.9 kB\u001b[0m \u001b[31m11.5 MB/s\u001b[0m eta \u001b[36m0:00:00\u001b[0m\n",
            "\u001b[2K   \u001b[90m━━━━━━━━━━━━━━━━━━━━━━━━━━━━━━━━━━━━━━━━\u001b[0m \u001b[32m54.5/54.5 kB\u001b[0m \u001b[31m4.9 MB/s\u001b[0m eta \u001b[36m0:00:00\u001b[0m\n",
            "\u001b[2K   \u001b[90m━━━━━━━━━━━━━━━━━━━━━━━━━━━━━━━━━━━━━━━━\u001b[0m \u001b[32m58.3/58.3 kB\u001b[0m \u001b[31m5.2 MB/s\u001b[0m eta \u001b[36m0:00:00\u001b[0m\n",
            "\u001b[?25h"
          ]
        }
      ]
    },
    {
      "cell_type": "code",
      "source": [
        "!pip install -q langchain langchain_groq langchain_community langchain_core"
      ],
      "metadata": {
        "colab": {
          "base_uri": "https://localhost:8080/"
        },
        "id": "joQykklZd8Yu",
        "outputId": "eefc9c94-8aef-44eb-e950-460be1154d98"
      },
      "execution_count": 3,
      "outputs": [
        {
          "output_type": "stream",
          "name": "stdout",
          "text": [
            "\u001b[?25l   \u001b[90m━━━━━━━━━━━━━━━━━━━━━━━━━━━━━━━━━━━━━━━━\u001b[0m \u001b[32m0.0/1.0 MB\u001b[0m \u001b[31m?\u001b[0m eta \u001b[36m-:--:--\u001b[0m\r\u001b[2K   \u001b[91m━━━━━━━━━━━━━━━━━━━━━━━━━━━━━━━━━━━━━━\u001b[0m\u001b[91m╸\u001b[0m\u001b[90m━\u001b[0m \u001b[32m1.0/1.0 MB\u001b[0m \u001b[31m29.1 MB/s\u001b[0m eta \u001b[36m0:00:01\u001b[0m\r\u001b[2K   \u001b[90m━━━━━━━━━━━━━━━━━━━━━━━━━━━━━━━━━━━━━━━━\u001b[0m \u001b[32m1.0/1.0 MB\u001b[0m \u001b[31m17.2 MB/s\u001b[0m eta \u001b[36m0:00:00\u001b[0m\n",
            "\u001b[2K   \u001b[90m━━━━━━━━━━━━━━━━━━━━━━━━━━━━━━━━━━━━━━━━\u001b[0m \u001b[32m2.4/2.4 MB\u001b[0m \u001b[31m62.6 MB/s\u001b[0m eta \u001b[36m0:00:00\u001b[0m\n",
            "\u001b[2K   \u001b[90m━━━━━━━━━━━━━━━━━━━━━━━━━━━━━━━━━━━━━━━━\u001b[0m \u001b[32m106.5/106.5 kB\u001b[0m \u001b[31m6.4 MB/s\u001b[0m eta \u001b[36m0:00:00\u001b[0m\n",
            "\u001b[2K   \u001b[90m━━━━━━━━━━━━━━━━━━━━━━━━━━━━━━━━━━━━━━━━\u001b[0m \u001b[32m49.3/49.3 kB\u001b[0m \u001b[31m1.4 MB/s\u001b[0m eta \u001b[36m0:00:00\u001b[0m\n",
            "\u001b[?25h"
          ]
        }
      ]
    },
    {
      "cell_type": "code",
      "source": [
        "from google.colab import userdata\n",
        "groq_key = userdata.get(\"GROQ_API_KEY\") # This command is used to retrieve the GROQ API key\n",
        "# key is likely needed for accessing Groq service via an api in your google colab environment.\n",
        "#  key is used for authentication to access the Groq API"
      ],
      "metadata": {
        "id": "gebGmoP3fn5A"
      },
      "execution_count": 4,
      "outputs": []
    },
    {
      "cell_type": "code",
      "source": [
        "from langchain_groq import ChatGroq\n",
        "llm = ChatGroq(groq_api_key=groq_key, model_name =  \"Llama3-8b-8192\")"
      ],
      "metadata": {
        "id": "cQT3S-5PggIb"
      },
      "execution_count": 5,
      "outputs": []
    },
    {
      "cell_type": "markdown",
      "source": [
        "## State\n"
      ],
      "metadata": {
        "id": "m96z1RRbkxA-"
      }
    },
    {
      "cell_type": "code",
      "source": [
        "# How we defne a state in a code\n",
        "from typing_extensions import TypedDict\n",
        "class MessageState(TypedDict):\n",
        "    graph_state: str\n",
        "# represent the current state of the conversation graph, indicating which nodes or paths are active."
      ],
      "metadata": {
        "id": "1scdYdprk1CF"
      },
      "execution_count": 6,
      "outputs": []
    },
    {
      "cell_type": "markdown",
      "source": [
        "## Construct Graph"
      ],
      "metadata": {
        "id": "79vWOJ2Un5ZH"
      }
    },
    {
      "cell_type": "code",
      "source": [
        "# With StateGraph, you can define nodes (states) and edges (transitions) in a way that allows for structured flow control within your application.\n",
        "from langgraph.graph import StateGraph, START, END\n",
        "# Buil Graph\n",
        "builder = StateGraph(MessageState)\n",
        "builder\n"
      ],
      "metadata": {
        "colab": {
          "base_uri": "https://localhost:8080/"
        },
        "id": "2MuXOJ8IqfBE",
        "outputId": "ede2c4c3-00d9-465e-dc07-4060655907b9"
      },
      "execution_count": 7,
      "outputs": [
        {
          "output_type": "execute_result",
          "data": {
            "text/plain": [
              "<langgraph.graph.state.StateGraph at 0x7a445c191c30>"
            ]
          },
          "metadata": {},
          "execution_count": 7
        }
      ]
    },
    {
      "cell_type": "markdown",
      "source": [
        "## Node"
      ],
      "metadata": {
        "id": "iCW2pxhD2vOE"
      }
    },
    {
      "cell_type": "code",
      "source": [
        "def chatbot(state: MessageState):\n",
        "    # Whenever we create any node in this graph builder,\n",
        "    # we have to pass MessageState in it because based on state message,\n",
        "    # the state management will keep on changing.\n",
        "  return {\"graph_state\": llm.invoke(state[\"graph_state\"])}\n",
        "#                 node name  function name\n",
        "builder.add_node(\"chatbot\", chatbot)\n",
        "# The line builder.add_node(\"chatbot\", chatbot) adds the chatbot function as a node in the StateGraph you are building."
      ],
      "metadata": {
        "colab": {
          "base_uri": "https://localhost:8080/"
        },
        "id": "Mq2Jh-8M2xxb",
        "outputId": "9328c389-2c06-4763-f609-1b3a91ec9b76"
      },
      "execution_count": 8,
      "outputs": [
        {
          "output_type": "execute_result",
          "data": {
            "text/plain": [
              "<langgraph.graph.state.StateGraph at 0x7a445c191c30>"
            ]
          },
          "metadata": {},
          "execution_count": 8
        }
      ]
    },
    {
      "cell_type": "markdown",
      "source": [
        "## Edge"
      ],
      "metadata": {
        "id": "lkCqI33u7Zq8"
      }
    },
    {
      "cell_type": "code",
      "source": [
        "from langgraph.graph import START, END\n",
        "builder.add_edge(START, \"chatbot\")\n",
        "builder.add_edge(\"chatbot\", END)"
      ],
      "metadata": {
        "colab": {
          "base_uri": "https://localhost:8080/"
        },
        "id": "3VcEqnVd7d2x",
        "outputId": "c1b4179a-0332-4f34-b641-a9c0f8cded52"
      },
      "execution_count": 9,
      "outputs": [
        {
          "output_type": "execute_result",
          "data": {
            "text/plain": [
              "<langgraph.graph.state.StateGraph at 0x7a445c191c30>"
            ]
          },
          "metadata": {},
          "execution_count": 9
        }
      ]
    },
    {
      "cell_type": "markdown",
      "source": [
        "## Compile the graph"
      ],
      "metadata": {
        "id": "BM4LUlns9V0y"
      }
    },
    {
      "cell_type": "code",
      "source": [
        "graph = builder.compile()"
      ],
      "metadata": {
        "id": "WXjtKYki9dS9"
      },
      "execution_count": 10,
      "outputs": []
    },
    {
      "cell_type": "markdown",
      "source": [
        "## View Graph"
      ],
      "metadata": {
        "id": "-rQn0YHQ9jM7"
      }
    },
    {
      "cell_type": "code",
      "source": [
        "from IPython.display import Image\n",
        "# View\n",
        "display(Image(graph.get_graph().draw_mermaid_png()))"
      ],
      "metadata": {
        "colab": {
          "base_uri": "https://localhost:8080/",
          "height": 251
        },
        "id": "8HnDH7Xy9l2o",
        "outputId": "819915eb-056c-4753-ab09-24843ca3990a"
      },
      "execution_count": 11,
      "outputs": [
        {
          "output_type": "display_data",
          "data": {
            "image/jpeg": "[encoded data removed]",
            "text/plain": [
              "<IPython.core.display.Image object>"
            ]
          },
          "metadata": {}
        }
      ]
    },
    {
      "cell_type": "code",
      "source": [
        "# test our agent\n",
        "from langchain_core.messages import AIMessage, HumanMessage\n",
        "result = graph.invoke({\"graph_state\": [HumanMessage(content=\"Hi, this is Math Class. What is 10x2?\")]})\n",
        "result['graph_state'].content"
      ],
      "metadata": {
        "colab": {
          "base_uri": "https://localhost:8080/",
          "height": 37
        },
        "id": "kLlFZbwRymQr",
        "outputId": "2cd96a24-e92f-4153-eafa-18ca41feebfd"
      },
      "execution_count": 13,
      "outputs": [
        {
          "output_type": "execute_result",
          "data": {
            "text/plain": [
              "\"Hi there!\\n\\nAh, easy peasy!\\n\\n10 x 2 = 20\\n\\nHow's that?\""
            ],
            "application/vnd.google.colaboratory.intrinsic+json": {
              "type": "string"
            }
          },
          "metadata": {},
          "execution_count": 13
        }
      ]
    },
    {
      "cell_type": "code",
      "source": [
        "# test our agent\n",
        "from langchain_core.messages import AIMessage, HumanMessage\n",
        "result = graph.invoke({\"graph_state\": [HumanMessage(content=\"Hi, tell me basics about quantum physics?\")]})\n",
        "result['graph_state'].content"
      ],
      "metadata": {
        "colab": {
          "base_uri": "https://localhost:8080/",
          "height": 217
        },
        "id": "r2LX9k3ZznTT",
        "outputId": "625e0651-4e6d-4b5d-96eb-ccdf37aec046"
      },
      "execution_count": 14,
      "outputs": [
        {
          "output_type": "execute_result",
          "data": {
            "text/plain": [
              "'A fascinating topic! Quantum physics, also known as quantum mechanics, is a branch of physics that deals with the behavior of matter and energy at an atomic and subatomic level. Here are the basics:\\n\\n**1. Wave-Particle Duality**: Quantum objects (such as electrons, photons, and atoms) can exhibit both wave-like and particle-like behavior depending on how they\\'re observed. This is a fundamental concept that challenges our classical understanding of reality.\\n\\n**2. Uncertainty Principle**: It\\'s impossible to know certain properties of a quantum object, such as its position and momentum, simultaneously with infinite precision. The more precisely you measure one property, the less precisely you can know the other.\\n\\n**3. Superposition**: Quantum objects can exist in multiple states simultaneously, which is known as a superposition of states. This means that, for example, an electron can be in two or more energy states at the same time.\\n\\n**4. Entanglement**: When two or more quantum objects interact, they can become \"entangled\" in a way that their properties are connected, even if they\\'re separated by large distances. Measuring the state of one object instantly affects the state of the other, regardless of the distance between them.\\n\\n**5. Quantum Spin**: Quantum objects can have an intrinsic angular momentum known as spin, which is a fundamental property that determines their behavior.\\n\\n**6. Quantum Probability**: Quantum mechanics is based on probability rather than definite outcomes. Measurements on quantum systems are inherently probabilistic, and the outcomes are uncertain until observed.\\n\\n**7. Schrödinger Equation**: The Schrödinger equation is a mathematical equation that describes the time-evolution of a quantum system. It\\'s a central equation in quantum mechanics that helps us predict the behavior of quantum objects.\\n\\n**8. Quantum Fields**: Quantum fields are mathematical constructs that describe the distribution of quantum objects in space and time. They\\'re essential for understanding the behavior of particles like electrons and photons.\\n\\n**9. Wave Function**: The wave function is a mathematical function that describes the quantum state of a system. It\\'s a key concept in quantum mechanics that encodes all the information about the system.\\n\\n**10. Quantum Measurement**: Quantum measurement is the process of observing or interacting with a quantum system, which causes its wave function to collapse to one of its possible states.\\n\\nThese are just some of the fundamental concepts in quantum physics. If you\\'re interested in learning more, I\\'d be happy to help you explore the fascinating world of quantum mechanics!'"
            ],
            "application/vnd.google.colaboratory.intrinsic+json": {
              "type": "string"
            }
          },
          "metadata": {},
          "execution_count": 14
        }
      ]
    },
    {
      "cell_type": "markdown",
      "source": [
        "## Conditional Edges:\n",
        "Now we know that edges can be conditional and unconditional we have already seen unconditional edge. Now check the Conditional Edge example:"
      ],
      "metadata": {
        "id": "yvykCNUhzqJ5"
      }
    },
    {
      "cell_type": "markdown",
      "source": [
        "# The Simplest Graph\n",
        "\n",
        "Let's build a simple graph with 3 nodes and one conditional edge.\n",
        "\n",
        "![Screenshot 2024-08-20 at 3.11.22 PM.png](https://cdn.prod.website-files.com/65b8cd72835ceeacd4449a53/66dba5f465f6e9a2482ad935_simple-graph1.png)"
      ],
      "metadata": {
        "id": "XVjLESELzwMx"
      }
    },
    {
      "cell_type": "markdown",
      "source": [
        "## State\n",
        "\n",
        "First, define the [State](https://langchain-ai.github.io/langgraph/concepts/low_level/#state) of the graph.\n",
        "\n",
        "The State schema serves as the input schema for all Nodes and Edges in the graph.\n",
        "\n",
        "Let's use the `TypedDict` class from python's `typing` module as our schema, which provides type hints for the keys."
      ],
      "metadata": {
        "id": "cJJqQLkTzzel"
      }
    },
    {
      "cell_type": "code",
      "source": [
        "from typing_extensions import TypedDict\n",
        "\n",
        "class State(TypedDict):\n",
        "    graph_state: str"
      ],
      "metadata": {
        "id": "qEKZjl0nz8bf"
      },
      "execution_count": 15,
      "outputs": []
    },
    {
      "cell_type": "markdown",
      "source": [
        "## Nodes\n",
        "\n",
        "[Nodes](https://langchain-ai.github.io/langgraph/concepts/low_level/#nodes) are just python functions.\n",
        "\n",
        "The first positional argument is the state, as defined above.\n",
        "\n",
        "Because the state is a `TypedDict` with schema as defined above, each node can access the key, `graph_state`, with `state['graph_state']`.\n",
        "\n",
        "Each node returns a new value of the state key `graph_state`.\n",
        "  \n",
        "By default, the new value returned by each node [will override](https://langchain-ai.github.io/langgraph/concepts/low_level/#reducers) the prior state value."
      ],
      "metadata": {
        "id": "TlLfnV1L0gSR"
      }
    },
    {
      "cell_type": "code",
      "source": [
        "def node_1(state):\n",
        "    print(\"---Node 1---\")\n",
        "    return {\"graph_state\": state['graph_state'] +\" I am\"}\n",
        "\n",
        "def node_2(state):\n",
        "    print(\"---Node 2---\")\n",
        "    return {\"graph_state\": state['graph_state'] +\" happy!\"}\n",
        "\n",
        "def node_3(state):\n",
        "    print(\"---Node 3---\")\n",
        "    return {\"graph_state\": state['graph_state'] +\" sad!\"}"
      ],
      "metadata": {
        "id": "bJ60RbmE0lS6"
      },
      "execution_count": 17,
      "outputs": []
    },
    {
      "cell_type": "markdown",
      "source": [
        "## Edges\n",
        "\n",
        "[Edges](https://langchain-ai.github.io/langgraph/concepts/low_level/#edges) connect the nodes.\n",
        "\n",
        "Normal Edges are used if you want to *always* go from, for example, `node_1` to `node_2`.\n",
        "\n",
        "[Conditional Edges](https://langchain-ai.github.io/langgraph/reference/graphs/?h=conditional+edge#langgraph.graph.StateGraph.add_conditional_edges) are used want to *optionally* route between nodes.\n",
        "\n",
        "Conditional edges are implemented as functions that return the next node to visit based upon some logic."
      ],
      "metadata": {
        "id": "tb377dig05SE"
      }
    },
    {
      "cell_type": "code",
      "source": [
        "import random\n",
        "from typing import Literal\n",
        "\n",
        "def decide_mood(state) -> Literal[\"node_2\", \"node_3\"]:\n",
        "\n",
        "    # Often, we will use state to decide on the next node to visit\n",
        "    user_input = state['graph_state']\n",
        "\n",
        "    # Here, let's just do a 50 / 50 split between nodes 2, 3\n",
        "    if random.random() < 0.5:\n",
        "\n",
        "        # 50% of the time, we return Node 2\n",
        "        return \"node_2\"\n",
        "\n",
        "    # 50% of the time, we return Node 3\n",
        "    return \"node_3\""
      ],
      "metadata": {
        "id": "fmITWsFl07aO"
      },
      "execution_count": 19,
      "outputs": []
    },
    {
      "cell_type": "markdown",
      "source": [
        "## Graph Construction\n",
        "\n",
        "Now, we build the graph from our [components](\n",
        "https://langchain-ai.github.io/langgraph/concepts/low_level/) defined above.\n",
        "\n",
        "The [StateGraph class](https://langchain-ai.github.io/langgraph/concepts/low_level/#stategraph) is the graph class that we can use.\n",
        "\n",
        "First, we initialize a StateGraph with the `State` class we defined above.\n",
        "\n",
        "Then, we add our nodes and edges.\n",
        "\n",
        "We use the [`START` Node, a special node](https://langchain-ai.github.io/langgraph/concepts/low_level/#start-node) that sends user input to the graph, to indicate where to start our graph.\n",
        "\n",
        "The [`END` Node](https://langchain-ai.github.io/langgraph/concepts/low_level/#end-node) is a special node that represents a terminal node.\n",
        "\n",
        "Finally, we [compile our graph](https://langchain-ai.github.io/langgraph/concepts/low_level/#compiling-your-graph) to perform a few basic checks on the graph structure.\n",
        "\n",
        "We can visualize the graph as a [Mermaid diagram](https://github.com/mermaid-js/mermaid)."
      ],
      "metadata": {
        "id": "lkXVVb1a1M40"
      }
    },
    {
      "cell_type": "code",
      "source": [
        "from IPython.display import Image, display\n",
        "from langgraph.graph import StateGraph, START, END\n",
        "\n",
        "# Build graph\n",
        "builder = StateGraph(State)\n",
        "builder.add_node(\"node_1\", node_1)\n",
        "builder.add_node(\"node_2\", node_2)\n",
        "builder.add_node(\"node_3\", node_3)\n",
        "\n",
        "# Logic\n",
        "builder.add_edge(START, \"node_1\")\n",
        "builder.add_conditional_edges(\"node_1\", decide_mood)\n",
        "builder.add_edge(\"node_2\", END)\n",
        "builder.add_edge(\"node_3\", END)\n",
        "\n",
        "# Add\n",
        "graph = builder.compile()\n",
        "\n",
        "# View\n",
        "display(Image(graph.get_graph().draw_mermaid_png()))"
      ],
      "metadata": {
        "colab": {
          "base_uri": "https://localhost:8080/",
          "height": 350
        },
        "id": "2XwTrMD_1Pfb",
        "outputId": "82853d4b-516c-4904-ad90-fe85696de67e"
      },
      "execution_count": 20,
      "outputs": [
        {
          "output_type": "display_data",
          "data": {
            "image/jpeg": "[encoded data removed]",
            "text/plain": [
              "<IPython.core.display.Image object>"
            ]
          },
          "metadata": {}
        }
      ]
    },
    {
      "cell_type": "markdown",
      "source": [
        "## Graph Invocation\n",
        "\n",
        "The compiled graph implements the [runnable](https://python.langchain.com/v0.1/docs/expression_language/interface/) protocol.\n",
        "\n",
        "This provides a standard way to execute LangChain components.\n",
        "\n",
        "`invoke` is one of the standard methods in this interface.\n",
        "\n",
        "The input is a dictionary `{\"graph_state\": \"Hi, this is lance.\"}`, which sets the initial value for our graph state dict.\n",
        "\n",
        "When `invoke` is called, the graph starts execution from the `START` node.\n",
        "\n",
        "It progresses through the defined nodes (`node_1`, `node_2`, `node_3`) in order.\n",
        "\n",
        "The conditional edge will traverse from node `1` to node `2` or `3` using a 50/50 decision rule.\n",
        "\n",
        "Each node function receives the current state and returns a new value, which overrides the graph state.\n",
        "\n",
        "The execution continues until it reaches the `END` node."
      ],
      "metadata": {
        "id": "Jq3j_ZRs1Y64"
      }
    },
    {
      "cell_type": "code",
      "source": [
        "graph.invoke({\"graph_state\" : \"Hi, this is Lance.\"})"
      ],
      "metadata": {
        "colab": {
          "base_uri": "https://localhost:8080/"
        },
        "id": "g-J2e7UX1iqS",
        "outputId": "95e4e0a1-83bf-4002-e6dc-3985dad491a7"
      },
      "execution_count": 21,
      "outputs": [
        {
          "output_type": "stream",
          "name": "stdout",
          "text": [
            "---Node 1---\n",
            "---Node 3---\n"
          ]
        },
        {
          "output_type": "execute_result",
          "data": {
            "text/plain": [
              "{'graph_state': 'Hi, this is Lance. I am sad!'}"
            ]
          },
          "metadata": {},
          "execution_count": 21
        }
      ]
    },
    {
      "cell_type": "markdown",
      "source": [
        "`invoke` runs the entire graph synchronously.\n",
        "\n",
        "This waits for each step to complete before moving to the next.\n",
        "\n",
        "It returns the final state of the graph after all nodes have executed.\n",
        "\n",
        "In this case, it returns the state after `node_3` has completed:\n",
        "\n",
        "```\n",
        "{'graph_state': 'Hi, this is Lance. I am sad!'}\n",
        "```"
      ],
      "metadata": {
        "id": "pMpat3fh1lgc"
      }
    }
  ]
}